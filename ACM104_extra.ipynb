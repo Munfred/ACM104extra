{
  "nbformat": 4,
  "nbformat_minor": 0,
  "metadata": {
    "colab": {
      "name": "ACM104 extra.ipynb",
      "provenance": [],
      "collapsed_sections": [],
      "authorship_tag": "ABX9TyPgYmkY4zK/CXX0OrvAYWGe",
      "include_colab_link": true
    },
    "kernelspec": {
      "name": "python3",
      "display_name": "Python 3"
    },
    "language_info": {
      "name": "python"
    }
  },
  "cells": [
    {
      "cell_type": "markdown",
      "metadata": {
        "id": "view-in-github",
        "colab_type": "text"
      },
      "source": [
        "<a href=\"https://colab.research.google.com/github/Munfred/ACM104extra/blob/main/ACM104_extra.ipynb\" target=\"_parent\"><img src=\"https://colab.research.google.com/assets/colab-badge.svg\" alt=\"Open In Colab\"/></a>"
      ]
    },
    {
      "cell_type": "code",
      "metadata": {
        "id": "Y53GK00p7GSL"
      },
      "source": [
        "import numpy as np\n",
        "import pandas as pd\n",
        "import io\n",
        "import requests\n",
        "import networkx as nx\n",
        "import matplotlib.pyplot as plt\n",
        "import operator\n",
        "import random as rd\n",
        "from tqdm import tqdm\n",
        "import matplotlib.pyplot as plt\n",
        "import matplotlib.pyplot as plt \n",
        "%matplotlib inline \n",
        "plt.rcParams['figure.figsize'] = (5, 5)\n",
        "from sklearn import datasets\n",
        "from sklearn.decomposition import PCA\n",
        "from sklearn.discriminant_analysis import LinearDiscriminantAnalysis\n",
        "from sklearn.decomposition import TruncatedSVD\n",
        "from scipy.sparse import random as sparse_random\n"
      ],
      "execution_count": 1,
      "outputs": []
    },
    {
      "cell_type": "markdown",
      "metadata": {
        "id": "nWV4xFrS2y5N"
      },
      "source": [
        "# Truncated SVD and PCA implementation compared with sklearn \n",
        "\n",
        "\n",
        "\n",
        "\n",
        "\n",
        "\n",
        "\n"
      ]
    },
    {
      "cell_type": "code",
      "metadata": {
        "id": "95Fe97kwEnwb"
      },
      "source": [
        "\n",
        "# We implement SVD using the power method following\n",
        "# this reference: https://www.cs.princeton.edu/courses/archive/fall18/cos521/Lectures/lec14.pdf\n",
        "# and this https://jeremykun.com/2016/05/16/singular-value-decomposition-part-2-theorem-proof-algorithm/\n",
        "\n",
        "\n",
        "def make_random_unit_vector(d):\n",
        "    random_vector= np.random.rand(d)\n",
        "    random_unit_vector = random_vector/np.linalg.norm(random_vector)\n",
        "    return random_unit_vector\n",
        "\n",
        "def run_1d_power_method(A, num_iter=1000):\n",
        "    n, d = A.shape\n",
        "    vector = make_random_unit_vector(d)\n",
        "    # calculate A^T*A for the pwoer method\n",
        "    B = np.dot(np.transpose(A), A)\n",
        "    # we just do an arbitrary number of iterations and hope it converges\n",
        "    for i in range(num_iter):\n",
        "        vector=np.dot(B, vector)\n",
        "        #normalize the vector\n",
        "        vector=vector/np.linalg.norm(vector)\n",
        "    return vector\n",
        "\n",
        "def svd(A):\n",
        "    n, m = A.shape\n",
        "    svd_list = []\n",
        " \n",
        "    for i in range(m):\n",
        "        A_copy = A.copy()\n",
        " \n",
        "        for singularValue, u, v in svd_list[:i]:\n",
        "            A_copy = A_copy -  singularValue * np.outer(u, v)\n",
        " \n",
        "        v = run_1d_power_method(A_copy, num_iter=100)  # singular vector\n",
        "        u = np.dot(A, v)/np.linalg.norm(np.dot(A, v))\n",
        "        sigma = np.linalg.norm(np.dot(A, v))  # singular value\n",
        " \n",
        "        svd_list.append((sigma, u, v))\n",
        " \n",
        "    # transform it into matrices of the right shape\n",
        "    singular_values, U, V = [np.array(x) for x in zip(*svd_list)]\n",
        "\n",
        "    return singular_values, U.T, V\n"
      ],
      "execution_count": 2,
      "outputs": []
    },
    {
      "cell_type": "code",
      "metadata": {
        "colab": {
          "base_uri": "https://localhost:8080/",
          "height": 1000
        },
        "id": "Qw7CD_Yp_6PC",
        "outputId": "6b432a21-cb46-40a1-e00f-6530c0b1287c"
      },
      "source": [
        "### plot SVD and PCA from sklearn on iris datast and compare with the manual SVD\n",
        "\n",
        "\n",
        "iris = datasets.load_iris()\n",
        "\n",
        "X = iris.data\n",
        "iris_matrix = X\n",
        "y = iris.target\n",
        "target_names = iris.target_names\n",
        "\n",
        "sklearn_svd = TruncatedSVD(n_components=2, n_iter=7, random_state=42)\n",
        "X_sklearn_svd = sklearn_svd.fit(X).transform(X)\n",
        "\n",
        "\n",
        "sklearn_pca = PCA(n_components=2)\n",
        "X_r = sklearn_pca.fit(X).transform(X)\n",
        "\n",
        "plt.figure()\n",
        "colors = ['navy', 'turquoise', 'darkorange']\n",
        "lw = 2\n",
        "\n",
        "iris_matrix_centered= iris_matrix\n",
        "for rownum in range(iris_matrix_centered.shape[1]):\n",
        "    iris_matrix_centered[rownum]=iris_matrix_centered[rownum]-iris_matrix_centered[rownum].mean()\n",
        "\n",
        "singular_values_PCA, U_SVD_iris_matrix_PCA, V_SVD_iris_matrix_PCA = svd(iris_matrix_centered)\n",
        "for color, i, target_name in zip(colors, [0, 1, 2], target_names):\n",
        "    plt.scatter(U_SVD_iris_matrix_PCA[:,:2][y == i, 0], U_SVD_iris_matrix_PCA[:,:2][y == i, 1], color=color, alpha=.8, lw=lw,\n",
        "                label=target_name)\n",
        "plt.legend(loc='best', shadow=False, scatterpoints=1)\n",
        "plt.title(' custom SVD implementation using centered matrix of IRIS dataset')\n",
        "plt.show()\n",
        "\n",
        "singular_vlaues, U_SVD_iris_matrix, V_SVD_iris_matrix = svd(iris_matrix)\n",
        "for color, i, target_name in zip(colors, [0, 1, 2], target_names):\n",
        "    plt.scatter(U_SVD_iris_matrix[:,:2][y == i, 0], U_SVD_iris_matrix[:,:2][y == i, 1], color=color, alpha=.8, lw=lw,\n",
        "                label=target_name)\n",
        "plt.legend(loc='best', shadow=False, scatterpoints=1)\n",
        "plt.title('sklearn SVD on IRIS dataset')\n",
        "plt.show()\n",
        "\n",
        "\n",
        "for color, i, target_name in zip(colors, [0, 1, 2], target_names):\n",
        "    plt.scatter(X_r[y == i, 0], X_r[y == i, 1], color=color, alpha=.8, lw=lw,\n",
        "                label=target_name)\n",
        "plt.legend(loc='best', shadow=False, scatterpoints=1)\n",
        "plt.title('sklearn PCA of IRIS dataset')\n",
        "plt.show()\n",
        "\n",
        "for color, i, target_name in zip(colors, [0, 1, 2], target_names):\n",
        "    plt.scatter(X_sklearn_svd[:,:2][y == i, 0], X_sklearn_svd[:,:2][y == i, 1], color=color, alpha=.8, lw=lw,\n",
        "                label=target_name)\n",
        "plt.legend(loc='best', shadow=False, scatterpoints=1)\n",
        "plt.title('custom SVD implementation on IRIS dataset')\n",
        "plt.show()\n",
        "\n"
      ],
      "execution_count": 6,
      "outputs": [
        {
          "output_type": "display_data",
          "data": {
            "image/png": "[encoded data removed]",
            "text/plain": [
              "<Figure size 432x288 with 1 Axes>"
            ]
          },
          "metadata": {
            "tags": [],
            "needs_background": "light"
          }
        },
        {
          "output_type": "display_data",
          "data": {
            "image/png": "[encoded data removed]",
            "text/plain": [
              "<Figure size 432x288 with 1 Axes>"
            ]
          },
          "metadata": {
            "tags": [],
            "needs_background": "light"
          }
        },
        {
          "output_type": "display_data",
          "data": {
            "image/png": "[encoded data removed]",
            "text/plain": [
              "<Figure size 432x288 with 1 Axes>"
            ]
          },
          "metadata": {
            "tags": [],
            "needs_background": "light"
          }
        },
        {
          "output_type": "display_data",
          "data": {
            "image/png": "[encoded data removed]",
            "text/plain": [
              "<Figure size 432x288 with 1 Axes>"
            ]
          },
          "metadata": {
            "tags": [],
            "needs_background": "light"
          }
        }
      ]
    },
    {
      "cell_type": "markdown",
      "metadata": {
        "id": "DkQFAXatt4b3"
      },
      "source": [
        "#NMF implementation"
      ]
    },
    {
      "cell_type": "code",
      "metadata": {
        "id": "mcYmKtfsTamG",
        "colab": {
          "base_uri": "https://localhost:8080/"
        },
        "outputId": "c3b28a83-938a-4716-ffa9-f281cfa3d861"
      },
      "source": [
        "#sklearn NMF\n",
        "import numpy as np\n",
        "X_sklearn = np.array([[1, 1], [2, 1], [3, 1.2], [4, 1], [5, 0.8], [6, 1]])\n",
        "from sklearn.decomposition import NMF\n",
        "model = NMF(n_components=2, init='random', random_state=0)\n",
        "W = model.fit_transform(X_sklearn)\n",
        "H = model.components_\n",
        "print('\\n W = \\n',W)\n",
        "print('\\n H = \\n',H)"
      ],
      "execution_count": 7,
      "outputs": [
        {
          "output_type": "stream",
          "text": [
            "\n",
            " W = \n",
            " [[0.         0.46880684]\n",
            " [0.55699523 0.3894146 ]\n",
            " [1.00331638 0.41925352]\n",
            " [1.6733999  0.22926926]\n",
            " [2.34349311 0.03927954]\n",
            " [2.78981512 0.06911798]]\n",
            "\n",
            " H = \n",
            " [[2.09783018 0.30560234]\n",
            " [2.13443044 2.13171694]]\n"
          ],
          "name": "stdout"
        }
      ]
    },
    {
      "cell_type": "code",
      "metadata": {
        "colab": {
          "base_uri": "https://localhost:8080/"
        },
        "id": "4LB-2QfBx8lV",
        "outputId": "a9ea8c6e-7d8a-4032-efa2-2262cd8e50be"
      },
      "source": [
        "# this code was adapted from the following resources\n",
        "# https://www.youtube.com/watch?v=LJX5hdw-zUI\n",
        "# https://www.ethanrosenthal.com/2017/06/20/matrix-factorization-in-pytorch/\n",
        "\n",
        "import numpy as np\n",
        "from scipy.sparse import rand as sprand\n",
        "import torch\n",
        "\n",
        "\n",
        "# X = np.random.randint(1, 10, size=(n_U,n_V))\n",
        "X=X_sklearn\n",
        "n_U = X.shape[0]\n",
        "n_V = X.shape[1]\n",
        "Xt = torch.tensor(X)\n",
        "n_factors=2\n",
        "class MatrixFactorization(torch.nn.Module):\n",
        "    def __init__(self, n_users, n_items, n_factors=n_factors):\n",
        "        super().__init__()\n",
        "        self.U_factors = torch.nn.Embedding(n_U, n_factors, sparse=False)\n",
        "        self.V_factors = torch.nn.Embedding(n_V, n_factors, sparse=False)\n",
        "        # initialize weights\n",
        "        self.U_factors.weight.data.uniform_(0,0.05)\n",
        "        self.V_factors.weight.data.uniform_(0,0.05)\n",
        "\n",
        "    def forward(self, u, v):\n",
        "        return (self.U_factors(u) * self.V_factors(v)).sum(1)\n",
        "\n",
        "model = MatrixFactorization(n_U, n_V, n_factors=n_factors)\n",
        "# to use frobenius norm as the loss function for each element, we can simply\n",
        "# use the mean square error (squared L2 norm) between each element and the target\n",
        "loss_func = torch.nn.MSELoss()\n",
        "\n",
        "\n",
        "optimizer = torch.optim.SGD(model.parameters(), lr=0.05)  # learning rate\n",
        "# had to increase the learning rate to get it to work in ~50 epochs, but works well now!\n",
        "\n",
        "# Sort our data\n",
        "rows, cols = X.nonzero()\n",
        "p = np.random.permutation(len(rows))\n",
        "rows, cols = rows[p], cols[p]\n",
        "\n",
        "# we train for 50 epochs and see if we get reasonable results\n",
        "for i in range(50):\n",
        "    \n",
        "    for row, col in zip(*(rows, cols)):\n",
        "        # Set gradients to zero\n",
        "        optimizer.zero_grad()\n",
        "        \n",
        "        # Turn data into tensors\n",
        "        entry = torch.FloatTensor([X[row, col]])\n",
        "        row = torch.LongTensor([row])\n",
        "        col = torch.LongTensor([col])\n",
        "\n",
        "        # Predict and calculate loss\n",
        "        prediction = model(row, col)\n",
        "        loss = loss_func(prediction, entry)\n",
        "        # Backpropagate\n",
        "        loss.backward()\n",
        "\n",
        "        # Update the parameters\n",
        "        optimizer.step()\n",
        "    loss = loss_func(prediction, entry)\n",
        "    print(loss)"
      ],
      "execution_count": 8,
      "outputs": [
        {
          "output_type": "stream",
          "text": [
            "tensor(8.9669, grad_fn=<MseLossBackward>)\n",
            "tensor(8.8500, grad_fn=<MseLossBackward>)\n",
            "tensor(8.3318, grad_fn=<MseLossBackward>)\n",
            "tensor(6.2965, grad_fn=<MseLossBackward>)\n",
            "tensor(1.6796, grad_fn=<MseLossBackward>)\n",
            "tensor(0.0207, grad_fn=<MseLossBackward>)\n",
            "tensor(0.0139, grad_fn=<MseLossBackward>)\n",
            "tensor(0.0149, grad_fn=<MseLossBackward>)\n",
            "tensor(0.0144, grad_fn=<MseLossBackward>)\n",
            "tensor(0.0143, grad_fn=<MseLossBackward>)\n",
            "tensor(0.0143, grad_fn=<MseLossBackward>)\n",
            "tensor(0.0143, grad_fn=<MseLossBackward>)\n",
            "tensor(0.0143, grad_fn=<MseLossBackward>)\n",
            "tensor(0.0142, grad_fn=<MseLossBackward>)\n",
            "tensor(0.0142, grad_fn=<MseLossBackward>)\n",
            "tensor(0.0142, grad_fn=<MseLossBackward>)\n",
            "tensor(0.0142, grad_fn=<MseLossBackward>)\n",
            "tensor(0.0141, grad_fn=<MseLossBackward>)\n",
            "tensor(0.0141, grad_fn=<MseLossBackward>)\n",
            "tensor(0.0140, grad_fn=<MseLossBackward>)\n",
            "tensor(0.0139, grad_fn=<MseLossBackward>)\n",
            "tensor(0.0138, grad_fn=<MseLossBackward>)\n",
            "tensor(0.0137, grad_fn=<MseLossBackward>)\n",
            "tensor(0.0135, grad_fn=<MseLossBackward>)\n",
            "tensor(0.0133, grad_fn=<MseLossBackward>)\n",
            "tensor(0.0131, grad_fn=<MseLossBackward>)\n",
            "tensor(0.0128, grad_fn=<MseLossBackward>)\n",
            "tensor(0.0124, grad_fn=<MseLossBackward>)\n",
            "tensor(0.0119, grad_fn=<MseLossBackward>)\n",
            "tensor(0.0113, grad_fn=<MseLossBackward>)\n",
            "tensor(0.0106, grad_fn=<MseLossBackward>)\n",
            "tensor(0.0098, grad_fn=<MseLossBackward>)\n",
            "tensor(0.0089, grad_fn=<MseLossBackward>)\n",
            "tensor(0.0079, grad_fn=<MseLossBackward>)\n",
            "tensor(0.0068, grad_fn=<MseLossBackward>)\n",
            "tensor(0.0057, grad_fn=<MseLossBackward>)\n",
            "tensor(0.0046, grad_fn=<MseLossBackward>)\n",
            "tensor(0.0036, grad_fn=<MseLossBackward>)\n",
            "tensor(0.0027, grad_fn=<MseLossBackward>)\n",
            "tensor(0.0019, grad_fn=<MseLossBackward>)\n",
            "tensor(0.0013, grad_fn=<MseLossBackward>)\n",
            "tensor(0.0009, grad_fn=<MseLossBackward>)\n",
            "tensor(0.0006, grad_fn=<MseLossBackward>)\n",
            "tensor(0.0003, grad_fn=<MseLossBackward>)\n",
            "tensor(0.0002, grad_fn=<MseLossBackward>)\n",
            "tensor(0.0001, grad_fn=<MseLossBackward>)\n",
            "tensor(6.5236e-05, grad_fn=<MseLossBackward>)\n",
            "tensor(3.4941e-05, grad_fn=<MseLossBackward>)\n",
            "tensor(1.8057e-05, grad_fn=<MseLossBackward>)\n",
            "tensor(8.9530e-06, grad_fn=<MseLossBackward>)\n"
          ],
          "name": "stdout"
        }
      ]
    },
    {
      "cell_type": "code",
      "metadata": {
        "colab": {
          "base_uri": "https://localhost:8080/"
        },
        "id": "-wUmvTAFJmIb",
        "outputId": "1a60480b-efac-4b1c-9082-f183a435850e"
      },
      "source": [
        "# print the original X\n",
        "print(' \\n Original X matrix \\n',X)\n",
        "\n",
        "# print the NMF factors multiplication results -- pretty close just by looking at the values! \n",
        "# I had to increase the learning rate to get it to work reasonably well within ~20 epochs\n",
        "# training for more epochs yields a better decomposition!\n",
        "print(' \\n Reconstructed X matrix with pytorch optimizer: \\n', torch.matmul(model.U_factors.weight,model.V_factors.weight.T))\n",
        "\n",
        "print(' \\n U matrix factors: \\n', model.U_factors.weight)\n",
        "\n",
        "print(' \\n V matrix factors: \\n', model.V_factors.weight)"
      ],
      "execution_count": 9,
      "outputs": [
        {
          "output_type": "stream",
          "text": [
            " \n",
            " Original X matrix \n",
            " [[1.  1. ]\n",
            " [2.  1. ]\n",
            " [3.  1.2]\n",
            " [4.  1. ]\n",
            " [5.  0.8]\n",
            " [6.  1. ]]\n",
            " \n",
            " Reconstructed X matrix with pytorch optimizer: \n",
            " tensor([[1.0081, 0.9679],\n",
            "        [2.0048, 0.9784],\n",
            "        [3.0000, 1.1879],\n",
            "        [3.9996, 1.0065],\n",
            "        [5.0004, 0.8155],\n",
            "        [6.0001, 1.0055]], grad_fn=<MmBackward>)\n",
            " \n",
            " U matrix factors: \n",
            " Parameter containing:\n",
            "tensor([[0.7864, 0.0912],\n",
            "        [0.7326, 0.4701],\n",
            "        [0.8537, 0.7877],\n",
            "        [0.6313, 1.2262],\n",
            "        [0.4003, 1.6682],\n",
            "        [0.5040, 1.9935]], requires_grad=True)\n",
            " \n",
            " V matrix factors: \n",
            " Parameter containing:\n",
            "tensor([[0.9610, 2.7669],\n",
            "        [1.2078, 0.1990]], requires_grad=True)\n"
          ],
          "name": "stdout"
        }
      ]
    },
    {
      "cell_type": "code",
      "metadata": {
        "id": "e5WEfLO6KQ5E"
      },
      "source": [
        ""
      ],
      "execution_count": 9,
      "outputs": []
    },
    {
      "cell_type": "markdown",
      "metadata": {
        "id": "v7tFKf9f2tSO"
      },
      "source": [
        "# Page rank implemmentaiton\n",
        "\n",
        "done following http://pi.math.cornell.edu/~mec/Winter2009/RalucaRemus/Lecture3/lecture3.html\n"
      ]
    },
    {
      "cell_type": "code",
      "metadata": {
        "id": "nhvJM5PH2ro9",
        "colab": {
          "base_uri": "https://localhost:8080/"
        },
        "outputId": "05b5dfe1-67a9-4aad-e595-73ded4865dc8"
      },
      "source": [
        "A = np.array([[0,0,1,0.5],\n",
        "             [1/3, 0,0, 0],\n",
        "             [1/3,0.5,0,0.5],\n",
        "             [1/3,0.5,0,0]])\n",
        "A"
      ],
      "execution_count": 130,
      "outputs": [
        {
          "output_type": "execute_result",
          "data": {
            "text/plain": [
              "array([[0.        , 0.        , 1.        , 0.5       ],\n",
              "       [0.33333333, 0.        , 0.        , 0.        ],\n",
              "       [0.33333333, 0.5       , 0.        , 0.5       ],\n",
              "       [0.33333333, 0.5       , 0.        , 0.        ]])"
            ]
          },
          "metadata": {
            "tags": []
          },
          "execution_count": 130
        }
      ]
    },
    {
      "cell_type": "code",
      "metadata": {
        "id": "B2ifRuelCtoE",
        "colab": {
          "base_uri": "https://localhost:8080/"
        },
        "outputId": "6efc4eac-1c29-4263-9707-95dbe54d2768"
      },
      "source": [
        "v=np.array([0.25,0.25,0.25,0.25])\n",
        "v"
      ],
      "execution_count": 131,
      "outputs": [
        {
          "output_type": "execute_result",
          "data": {
            "text/plain": [
              "array([0.25, 0.25, 0.25, 0.25])"
            ]
          },
          "metadata": {
            "tags": []
          },
          "execution_count": 131
        }
      ]
    },
    {
      "cell_type": "code",
      "metadata": {
        "colab": {
          "base_uri": "https://localhost:8080/"
        },
        "id": "NJazbx1fWeIX",
        "outputId": "4491eaf9-0815-49b7-d8c7-0d460fe9173f"
      },
      "source": [
        "for n in [2, 5, 10, 20,100]:\n",
        "    print(n)\n",
        "    print(np.inner(np.linalg.matrix_power(A, n), v.T))\n"
      ],
      "execution_count": 132,
      "outputs": [
        {
          "output_type": "stream",
          "text": [
            "2\n",
            "[0.4375     0.125      0.27083333 0.16666667]\n",
            "5\n",
            "[0.390625   0.13194444 0.28645833 0.19097222]\n",
            "10\n",
            "[0.38758681 0.12885802 0.29024402 0.19331115]\n",
            "20\n",
            "[0.38709616 0.12903205 0.29032302 0.19354877]\n",
            "100\n",
            "[0.38709677 0.12903226 0.29032258 0.19354839]\n"
          ],
          "name": "stdout"
        }
      ]
    },
    {
      "cell_type": "code",
      "metadata": {
        "colab": {
          "base_uri": "https://localhost:8080/"
        },
        "id": "5CbQZ1dQXDp-",
        "outputId": "6529c07c-8fc5-4ee5-87a3-30379e5a4bf5"
      },
      "source": [
        "# naive page rank\n",
        "print(A)\n",
        "print(v)\n",
        "Av = np.dot(A, v)\n",
        "print('Av = ', Av)\n",
        "for n in range(10):\n",
        "    print(n)\n",
        "    print(np.dot(np.linalg.matrix_power(A, n), Av))\n"
      ],
      "execution_count": 134,
      "outputs": [
        {
          "output_type": "stream",
          "text": [
            "[[0.         0.         1.         0.5       ]\n",
            " [0.33333333 0.         0.         0.        ]\n",
            " [0.33333333 0.5        0.         0.5       ]\n",
            " [0.33333333 0.5        0.         0.        ]]\n",
            "[0.25 0.25 0.25 0.25]\n",
            "Av =  [0.375      0.08333333 0.33333333 0.20833333]\n",
            "0\n",
            "[0.375      0.08333333 0.33333333 0.20833333]\n",
            "1\n",
            "[0.4375     0.125      0.27083333 0.16666667]\n",
            "2\n",
            "[0.35416667 0.14583333 0.29166667 0.20833333]\n",
            "3\n",
            "[0.39583333 0.11805556 0.29513889 0.19097222]\n",
            "4\n",
            "[0.390625   0.13194444 0.28645833 0.19097222]\n",
            "5\n",
            "[0.38194444 0.13020833 0.29166667 0.19618056]\n",
            "6\n",
            "[0.38975694 0.12731481 0.29050926 0.19241898]\n",
            "7\n",
            "[0.38671875 0.12991898 0.28978588 0.19357639]\n",
            "8\n",
            "[0.38657407 0.12890625 0.29065394 0.19386574]\n",
            "9\n",
            "[0.38758681 0.12885802 0.29024402 0.19331115]\n"
          ],
          "name": "stdout"
        }
      ]
    },
    {
      "cell_type": "code",
      "metadata": {
        "colab": {
          "base_uri": "https://localhost:8080/"
        },
        "id": "4GVUOiE4Xo6f",
        "outputId": "626aaebd-f49b-4c55-e3c1-8cd2f148a91e"
      },
      "source": [
        "# page rank with Google rank matrix M\n",
        "\n",
        "B = 0.25* np.ones((4,4))\n",
        "\n",
        "# lets do page rank with 3 values of damping factor\n",
        "for p in [0.1, 0.2, 0.5]:\n",
        "    print('damping factor:', p)\n",
        "    M= (1-p)*A + p*B\n",
        "\n",
        "    # naive page rank\n",
        "    print('M=', M)\n",
        "\n",
        "    Mv = np.dot(M, v)\n",
        "    print('Mv = ', Mv)\n",
        "    for n in range(10):\n",
        "        print(n)\n",
        "        print(np.dot(np.linalg.matrix_power(M, n), Mv))\n"
      ],
      "execution_count": 137,
      "outputs": [
        {
          "output_type": "stream",
          "text": [
            "damping factor: 0.1\n",
            "M= [[0.025 0.025 0.925 0.475]\n",
            " [0.325 0.025 0.025 0.025]\n",
            " [0.325 0.475 0.025 0.475]\n",
            " [0.325 0.475 0.025 0.025]]\n",
            "Mv =  [0.3625 0.1    0.325  0.2125]\n",
            "0\n",
            "[0.3625 0.1    0.325  0.2125]\n",
            "1\n",
            "[0.413125 0.13375  0.274375 0.17875 ]\n",
            "2\n",
            "[0.352375  0.1489375 0.2895625 0.209125 ]\n",
            "3\n",
            "[0.3797125  0.1307125  0.29184063 0.19773438]\n",
            "4\n",
            "[0.37663703 0.13891375 0.28671484 0.19773438]\n",
            "5\n",
            "[0.37202383 0.13799111 0.28948277 0.2005023 ]\n",
            "6\n",
            "[0.37576052 0.13660715 0.28892918 0.19870315]\n",
            "7\n",
            "[0.37445268 0.13772816 0.28861779 0.19920137]\n",
            "8\n",
            "[0.37439663 0.1373358  0.28895409 0.19931347]\n",
            "9\n",
            "[0.37474975 0.13731899 0.28881116 0.1991201 ]\n",
            "damping factor: 0.2\n",
            "M= [[0.05       0.05       0.85       0.45      ]\n",
            " [0.31666667 0.05       0.05       0.05      ]\n",
            " [0.31666667 0.45       0.05       0.45      ]\n",
            " [0.31666667 0.45       0.05       0.05      ]]\n",
            "Mv =  [0.35       0.11666667 0.31666667 0.21666667]\n",
            "0\n",
            "[0.35       0.11666667 0.31666667 0.21666667]\n",
            "1\n",
            "[0.39       0.14333333 0.27666667 0.19      ]\n",
            "2\n",
            "[0.34733333 0.154      0.28733333 0.21133333]\n",
            "3\n",
            "[0.3644     0.14262222 0.28875556 0.20422222]\n",
            "4\n",
            "[0.36269333 0.14717333 0.28591111 0.20422222]\n",
            "5\n",
            "[0.36041778 0.14671822 0.28727644 0.20558756]\n",
            "6\n",
            "[0.36205618 0.14611141 0.28703372 0.2047987 ]\n",
            "7\n",
            "[0.36154645 0.14654831 0.28691236 0.20499288]\n",
            "8\n",
            "[0.36152704 0.14641239 0.28702886 0.20503171]\n",
            "9\n",
            "[0.36163578 0.14640721 0.28698485 0.20497216]\n",
            "damping factor: 0.5\n",
            "M= [[0.125      0.125      0.625      0.375     ]\n",
            " [0.29166667 0.125      0.125      0.125     ]\n",
            " [0.29166667 0.375      0.125      0.375     ]\n",
            " [0.29166667 0.375      0.125      0.125     ]]\n",
            "Mv =  [0.3125     0.16666667 0.29166667 0.22916667]\n",
            "0\n",
            "[0.3125     0.16666667 0.29166667 0.22916667]\n",
            "1\n",
            "[0.328125   0.17708333 0.27604167 0.21875   ]\n",
            "2\n",
            "[0.31770833 0.1796875  0.27864583 0.22395833]\n",
            "3\n",
            "[0.3203125  0.17795139 0.27886285 0.22287326]\n",
            "4\n",
            "[0.32014974 0.17838542 0.27859158 0.22287326]\n",
            "5\n",
            "[0.32001411 0.17835829 0.27867296 0.22295464]\n",
            "6\n",
            "[0.32007514 0.17833568 0.27866392 0.22292526]\n",
            "7\n",
            "[0.32006327 0.17834586 0.27866109 0.22292978]\n",
            "8\n",
            "[0.32006299 0.17834388 0.27866279 0.22293034]\n",
            "9\n",
            "[0.32006398 0.17834383 0.27866239 0.2229298 ]\n"
          ],
          "name": "stdout"
        }
      ]
    },
    {
      "cell_type": "code",
      "metadata": {
        "id": "Sj8SSEoUZiOd"
      },
      "source": [
        ""
      ],
      "execution_count": null,
      "outputs": []
    }
  ]
}